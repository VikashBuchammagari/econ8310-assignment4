{
  "cells": [
    {
      "cell_type": "markdown",
      "id": "8e649671-64ae-4692-a381-33974ffa666a",
      "metadata": {
        "id": "8e649671-64ae-4692-a381-33974ffa666a"
      },
      "source": [
        "# Assignment 4\n",
        "## Econ 8310 - Business Forecasting\n",
        "\n",
        "This assignment will make use of the bayesian statistical models covered in Lessons 10 to 12.\n",
        "\n",
        "A/B Testing is a critical concept in data science, and for many companies one of the most relevant applications of data-driven decision-making. In order to improve product offerings, marketing campaigns, user interfaces, and many other user-facing interactions, scientists and engineers create experiments to determine the efficacy of proposed changes. Users are then randomly assigned to either the treatment or control group, and their behavior is recorded.\n",
        "If the changes that the treatment group is exposed to can be measured to have a benefit in the metric of interest, then those changes are scaled up and rolled out to across all interactions.\n",
        "Below is a short video detailing the A/B Testing process, in case you want to learn a bit more:\n",
        "[https://youtu.be/DUNk4GPZ9bw](https://youtu.be/DUNk4GPZ9bw)\n",
        "\n",
        "For this assignment, you will use an A/B test data set, which was pulled from the Kaggle website (https://www.kaggle.com/datasets/yufengsui/mobile-games-ab-testing). I have added the data from the page into Codio for you. It can be found in the cookie_cats.csv file in the file tree. It can also be found at [https://github.com/dustywhite7/Econ8310/raw/master/AssignmentData/cookie_cats.csv](https://github.com/dustywhite7/Econ8310/raw/master/AssignmentData/cookie_cats.csv)\n",
        "\n",
        "The variables are defined as follows:\n",
        "\n",
        "| Variable Name  | Definition |\n",
        "|----------------|----|\n",
        "| userid         | A unique number that identifies each player  |\n",
        "| version        | Whether the player was put in the control group (gate_30 - a gate at level 30) or the group with the moved gate (gate_40 - a gate at level 40) |\n",
        "| sum_gamerounds | The number of game rounds played by the player during the first 14 days after install.  |\n",
        "| retention1     | Did the player come back and play 1 day after installing?     |\n",
        "| retention7     | Did the player come back and play 7 days after installing?    |               "
      ]
    },
    {
      "cell_type": "markdown",
      "id": "a7d4d9ba-5349-4ae6-833b-8cea780510d2",
      "metadata": {
        "id": "a7d4d9ba-5349-4ae6-833b-8cea780510d2"
      },
      "source": [
        "### The questions\n",
        "\n",
        "You will be asked to answer the following questions in a small quiz on Canvas:\n",
        "1. What was the effect of moving the gate from level 30 to level 40 on 1-day retention rates?\n",
        "2. What was the effect of moving the gate from level 30 to level 40 on 7-day retention rates?\n",
        "3. What was the biggest challenge for you in completing this assignment?\n",
        "\n",
        "You will also be asked to submit a URL to your forked GitHub repository containing your code used to answer these questions."
      ]
    },
    {
      "cell_type": "code",
      "execution_count": null,
      "id": "bcd35387-b05b-4cb2-9b1f-e1d2c0e43588",
      "metadata": {
        "colab": {
          "base_uri": "https://localhost:8080/",
          "height": 241,
          "referenced_widgets": [
            "6de6b408ed884a18b50ffebd402db15e",
            "595bbdc472e949389bbb6655803b2435"
          ]
        },
        "id": "bcd35387-b05b-4cb2-9b1f-e1d2c0e43588",
        "outputId": "8d0357e3-ffd5-443c-f495-cc007608fba2"
      },
      "outputs": [
        {
          "output_type": "stream",
          "name": "stdout",
          "text": [
            "\n",
            "Average Retention Rates by Version:\n",
            "         retention_1  retention_7\n",
            "version                          \n",
            "gate_30     0.448188     0.190201\n",
            "gate_40     0.442283     0.182000\n",
            "Analyzing 1-Day Retention\n"
          ]
        },
        {
          "output_type": "display_data",
          "data": {
            "text/plain": [
              "Output()"
            ],
            "application/vnd.jupyter.widget-view+json": {
              "version_major": 2,
              "version_minor": 0,
              "model_id": "6de6b408ed884a18b50ffebd402db15e"
            }
          },
          "metadata": {}
        }
      ],
      "source": [
        "import pandas as pd\n",
        "import pymc as pm\n",
        "import numpy as np\n",
        "import matplotlib.pyplot as plt\n",
        "import arviz as az\n",
        "\n",
        "# URL for the dataset\n",
        "data_url = \"https://raw.githubusercontent.com/dustywhite7/Econ8310/master/AssignmentData/cookie_cats.csv\"\n",
        "\n",
        "# Load the dataset\n",
        "game_data = pd.read_csv(data_url)\n",
        "\n",
        "# Calculate and display retention rates\n",
        "avg_retention = game_data.groupby('version')[['retention_1', 'retention_7']].mean()\n",
        "print(\"\\nAverage Retention Rates by Version:\")\n",
        "print(avg_retention)\n",
        "\n",
        "def perform_bayesian_analysis(retention_metric):\n",
        "    retention_version_30 = game_data[game_data['version'] == 'gate_30'][retention_metric]\n",
        "    retention_version_40 = game_data[game_data['version'] == 'gate_40'][retention_metric]\n",
        "\n",
        "    with pm.Model() as retention_model:\n",
        "        prob_30 = pm.Uniform(f'prob_30_{retention_metric}', lower=0, upper=1)\n",
        "        prob_40 = pm.Uniform(f'prob_40_{retention_metric}', lower=0, upper=1)\n",
        "\n",
        "        obs_30 = pm.Bernoulli(f'obs_30_{retention_metric}', p=prob_30, observed=retention_version_30)\n",
        "        obs_40 = pm.Bernoulli(f'obs_40_{retention_metric}', p=prob_40, observed=retention_version_40)\n",
        "\n",
        "        retention_difference = pm.Deterministic('retention_difference', prob_30 - prob_40)\n",
        "\n",
        "        retention_trace = pm.sample(20000, chains=2, tune=500)\n",
        "\n",
        "    return retention_trace\n",
        "\n",
        "def visualize_and_summarize_results(trace, retention_metric):\n",
        "    # Visualize posterior distributions for probabilities\n",
        "    prob_30_samples = trace.posterior[f'prob_30_{retention_metric}'].values.flatten()\n",
        "    prob_40_samples = trace.posterior[f'prob_40_{retention_metric}'].values.flatten()\n",
        "    plt.figure(figsize=(12, 6))\n",
        "    plt.hist(prob_30_samples, bins=40, alpha=0.7, label=f'Prob_30_{retention_metric}', density=True)\n",
        "    plt.hist(prob_40_samples, bins=40, alpha=0.7, label=f'Prob_40_{retention_metric}', density=True)\n",
        "    plt.title(f'Posterior Distributions for {retention_metric.capitalize()}')\n",
        "    plt.legend()\n",
        "    plt.show()\n",
        "\n",
        "    # Posterior distribution for the difference\n",
        "    retention_diff_samples = trace.posterior['retention_difference'].values.flatten()\n",
        "\n",
        "    plt.figure(figsize=(12, 6))\n",
        "    plt.hist(retention_diff_samples, bins=40, alpha=0.7, color='gray', label='Retention Difference', density=True)\n",
        "    plt.axvline(0, color='red', linestyle='--', label='Zero Difference')\n",
        "    plt.title(f'Posterior Distribution for Retention Difference ({retention_metric})')\n",
        "    plt.legend()\n",
        "    plt.show()\n",
        "\n",
        "    # Display summary statistics\n",
        "    print(f\"\\nSummary for {retention_metric.capitalize()} Analysis:\")\n",
        "    summary = az.summary(trace, var_names=[f'prob_30_{retention_metric}', f'prob_40_{retention_metric}', 'retention_difference'], hdi_prob=0.95)\n",
        "    print(summary)\n",
        "\n",
        "    # Superiority probability\n",
        "    prob_superiority = np.mean(retention_diff_samples > 0)\n",
        "    print(f\"Superiority Probability: {prob_superiority:.2f}\")\n",
        "    return prob_superiority\n",
        "\n",
        "# Analyze 1-day retention\n",
        "print(\"Analyzing 1-Day Retention\")\n",
        "trace_1_day = perform_bayesian_analysis('retention_1')\n",
        "prob_1_day = visualize_and_summarize_results(trace_1_day, 'retention_1')\n",
        "\n",
        "# Analyze 7-day retention\n",
        "print(\"Analyzing 7-Day Retention\")\n",
        "trace_7_day = perform_bayesian_analysis('retention_7')\n",
        "prob_7_day = visualize_and_summarize_results(trace_7_day, 'retention_7')\n",
        ""
      ]
    }
  ],
  "metadata": {
    "kernelspec": {
      "display_name": "Python 3 (ipykernel)",
      "language": "python",
      "name": "python3"
    },
    "language_info": {
      "codemirror_mode": {
        "name": "ipython",
        "version": 3
      },
      "file_extension": ".py",
      "mimetype": "text/x-python",
      "name": "python",
      "nbconvert_exporter": "python",
      "pygments_lexer": "ipython3",
      "version": "3.9.13"
    },
    "colab": {
      "provenance": []
    },
    "widgets": {
      "application/vnd.jupyter.widget-state+json": {
        "6de6b408ed884a18b50ffebd402db15e": {
          "model_module": "@jupyter-widgets/output",
          "model_name": "OutputModel",
          "model_module_version": "1.0.0",
          "state": {
            "_dom_classes": [],
            "_model_module": "@jupyter-widgets/output",
            "_model_module_version": "1.0.0",
            "_model_name": "OutputModel",
            "_view_count": null,
            "_view_module": "@jupyter-widgets/output",
            "_view_module_version": "1.0.0",
            "_view_name": "OutputView",
            "layout": "IPY_MODEL_595bbdc472e949389bbb6655803b2435",
            "msg_id": "",
            "outputs": [
              {
                "output_type": "display_data",
                "data": {
                  "text/plain": "                                                                                                                   \n \u001b[1m \u001b[0m\u001b[1mProgress                 \u001b[0m\u001b[1m \u001b[0m \u001b[1m \u001b[0m\u001b[1mDraws\u001b[0m\u001b[1m \u001b[0m \u001b[1m \u001b[0m\u001b[1mDivergences\u001b[0m\u001b[1m \u001b[0m \u001b[1m \u001b[0m\u001b[1mStep size\u001b[0m\u001b[1m \u001b[0m \u001b[1m \u001b[0m\u001b[1mGrad evals\u001b[0m\u001b[1m \u001b[0m \u001b[1m \u001b[0m\u001b[1mSampling Speed\u001b[0m\u001b[1m \u001b[0m \u001b[1m \u001b[0m\u001b[1mElapsed\u001b[0m\u001b[1m \u001b[0m \u001b[1m \u001b[0m\u001b[1mRemaining\u001b[0m\u001b[1m \u001b[0m \n ───────────────────────────────────────────────────────────────────────────────────────────────────────────────── \n  \u001b[38;2;31;119;180m━━━━━━━━━━━━━━━━━\u001b[0m\u001b[38;5;237m╺\u001b[0m\u001b[38;5;237m━━━━━━━\u001b[0m   14032   0             1.05        3            253.74 draws/s   0:00:55   0:00:27    \n  \u001b[38;5;237m━━━━━━━━━━━━━━━━━━━━━━━━━\u001b[0m   0       0             0.00        0            0.00 draws/s     0:00:55   -:--:--    \n                                                                                                                   \n",
                  "text/html": "<pre style=\"white-space:pre;overflow-x:auto;line-height:normal;font-family:Menlo,'DejaVu Sans Mono',consolas,'Courier New',monospace\">                                                                                                                   \n <span style=\"font-weight: bold\"> Progress                  </span> <span style=\"font-weight: bold\"> Draws </span> <span style=\"font-weight: bold\"> Divergences </span> <span style=\"font-weight: bold\"> Step size </span> <span style=\"font-weight: bold\"> Grad evals </span> <span style=\"font-weight: bold\"> Sampling Speed </span> <span style=\"font-weight: bold\"> Elapsed </span> <span style=\"font-weight: bold\"> Remaining </span> \n ───────────────────────────────────────────────────────────────────────────────────────────────────────────────── \n  <span style=\"color: #1f77b4; text-decoration-color: #1f77b4\">━━━━━━━━━━━━━━━━━</span><span style=\"color: #3a3a3a; text-decoration-color: #3a3a3a\">╺━━━━━━━</span>   14032   0             1.05        3            253.74 draws/s   0:00:55   0:00:27    \n  <span style=\"color: #3a3a3a; text-decoration-color: #3a3a3a\">━━━━━━━━━━━━━━━━━━━━━━━━━</span>   0       0             0.00        0            0.00 draws/s     0:00:55   -:--:--    \n                                                                                                                   \n</pre>\n"
                },
                "metadata": {}
              }
            ]
          }
        },
        "595bbdc472e949389bbb6655803b2435": {
          "model_module": "@jupyter-widgets/base",
          "model_name": "LayoutModel",
          "model_module_version": "1.2.0",
          "state": {
            "_model_module": "@jupyter-widgets/base",
            "_model_module_version": "1.2.0",
            "_model_name": "LayoutModel",
            "_view_count": null,
            "_view_module": "@jupyter-widgets/base",
            "_view_module_version": "1.2.0",
            "_view_name": "LayoutView",
            "align_content": null,
            "align_items": null,
            "align_self": null,
            "border": null,
            "bottom": null,
            "display": null,
            "flex": null,
            "flex_flow": null,
            "grid_area": null,
            "grid_auto_columns": null,
            "grid_auto_flow": null,
            "grid_auto_rows": null,
            "grid_column": null,
            "grid_gap": null,
            "grid_row": null,
            "grid_template_areas": null,
            "grid_template_columns": null,
            "grid_template_rows": null,
            "height": null,
            "justify_content": null,
            "justify_items": null,
            "left": null,
            "margin": null,
            "max_height": null,
            "max_width": null,
            "min_height": null,
            "min_width": null,
            "object_fit": null,
            "object_position": null,
            "order": null,
            "overflow": null,
            "overflow_x": null,
            "overflow_y": null,
            "padding": null,
            "right": null,
            "top": null,
            "visibility": null,
            "width": null
          }
        }
      }
    }
  },
  "nbformat": 4,
  "nbformat_minor": 5
}